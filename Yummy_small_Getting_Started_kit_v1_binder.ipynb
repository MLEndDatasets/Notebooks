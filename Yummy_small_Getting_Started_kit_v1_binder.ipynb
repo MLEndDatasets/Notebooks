{
 "cells": [
  {
   "cell_type": "markdown",
   "metadata": {
    "id": "jCzP3aRyELl7"
   },
   "source": [
    "# Install and load libraries"
   ]
  },
  {
   "cell_type": "code",
   "execution_count": null,
   "metadata": {
    "colab": {
     "base_uri": "https://localhost:8080/"
    },
    "id": "IzCE5tTM-x8L",
    "outputId": "4a151b5c-a852-4f2c-9c49-e99cd0fa576f"
   },
   "outputs": [],
   "source": [
    "#!pip install mlend\n",
    "#!pip install -U scikit-image"
   ]
  },
  {
   "cell_type": "code",
   "execution_count": null,
   "metadata": {
    "id": "-X4yuoPk-6CC"
   },
   "outputs": [],
   "source": [
    "import numpy as np\n",
    "import pandas as pd\n",
    "import matplotlib.pyplot as plt\n",
    "import spkit as sp\n",
    "sp.__version__"
   ]
  },
  {
   "cell_type": "code",
   "execution_count": null,
   "metadata": {
    "id": "WzJNdH1QXfti"
   },
   "outputs": [],
   "source": [
    "import mlend\n",
    "from mlend import download_yummy_small, yummy_small_load\n",
    "mlend.__version__"
   ]
  },
  {
   "cell_type": "code",
   "execution_count": null,
   "metadata": {
    "colab": {
     "base_uri": "https://localhost:8080/",
     "height": 35
    },
    "id": "ATn9Y4dOYXxU",
    "outputId": "f5b2f4a0-69e6-4856-e876-d31e7d636e28"
   },
   "outputs": [],
   "source": [
    "# from skimage import exposure\n",
    "# from skimage.color import rgb2hsv, rgb2gray\n",
    "# import skimage as ski\n",
    "# ski.__version__"
   ]
  },
  {
   "cell_type": "markdown",
   "metadata": {
    "id": "FiWqi_RuEF4G"
   },
   "source": [
    "# Download data"
   ]
  },
  {
   "cell_type": "code",
   "execution_count": null,
   "metadata": {
    "colab": {
     "base_uri": "https://localhost:8080/",
     "height": 87
    },
    "id": "DCGi_KIo_QD3",
    "outputId": "17649e51-ac5c-4bee-ac9f-b3352139a20b"
   },
   "outputs": [],
   "source": [
    "baseDir = download_yummy_small(save_to = '../MLEnd')\n",
    "baseDir"
   ]
  },
  {
   "cell_type": "markdown",
   "metadata": {
    "id": "CoHv54DNEVTF"
   },
   "source": [
    "# Create Train-Test Set"
   ]
  },
  {
   "cell_type": "code",
   "execution_count": null,
   "metadata": {
    "colab": {
     "base_uri": "https://localhost:8080/"
    },
    "id": "RwYM2PDW_aFQ",
    "outputId": "41222b16-c82a-4e67-dfba-f89fec583e60"
   },
   "outputs": [],
   "source": [
    "TrainSet, TestSet, Map = yummy_small_load(datadir_main=baseDir,train_test_split='Benchmark_A')"
   ]
  },
  {
   "cell_type": "code",
   "execution_count": null,
   "metadata": {
    "colab": {
     "base_uri": "https://localhost:8080/"
    },
    "id": "1Iu8cewy_9Z0",
    "outputId": "0c79b136-6363-4f7e-f6a1-7c89def172ab"
   },
   "outputs": [],
   "source": [
    "TrainSet.keys()"
   ]
  },
  {
   "cell_type": "code",
   "execution_count": null,
   "metadata": {
    "colab": {
     "base_uri": "https://localhost:8080/"
    },
    "id": "78J99e4RAFdX",
    "outputId": "852f09dc-a3ba-4627-9993-d022775333a4"
   },
   "outputs": [],
   "source": [
    "TestSet.keys()"
   ]
  },
  {
   "cell_type": "code",
   "execution_count": null,
   "metadata": {
    "colab": {
     "base_uri": "https://localhost:8080/"
    },
    "id": "k1bOHw8YAMVc",
    "outputId": "74f9df7a-e1a1-4c9e-8369-409bd0c3b0e6"
   },
   "outputs": [],
   "source": [
    "Map"
   ]
  },
  {
   "cell_type": "code",
   "execution_count": null,
   "metadata": {
    "colab": {
     "base_uri": "https://localhost:8080/"
    },
    "id": "e9FaQPCLAaCl",
    "outputId": "cec39922-cfda-4683-a928-857a7c1723de"
   },
   "outputs": [],
   "source": [
    "TrainSet['Y'], TrainSet['Y_encoded']"
   ]
  },
  {
   "cell_type": "code",
   "execution_count": null,
   "metadata": {
    "colab": {
     "base_uri": "https://localhost:8080/"
    },
    "id": "UpfGYL1BCHA_",
    "outputId": "0d1b37af-28b6-4670-8b79-5fb7d0d2e931"
   },
   "outputs": [],
   "source": [
    "TrainSet['Y_encoded']"
   ]
  },
  {
   "cell_type": "code",
   "execution_count": null,
   "metadata": {
    "id": "MjisAHUtANcX"
   },
   "outputs": [],
   "source": [
    "X_train_paths = TrainSet['X_paths']\n",
    "X_test_paths  = TestSet['X_paths']\n",
    "\n",
    "Y_train = TrainSet['Y_encoded']\n",
    "Y_test  = TestSet['Y_encoded']"
   ]
  },
  {
   "cell_type": "code",
   "execution_count": null,
   "metadata": {
    "colab": {
     "base_uri": "https://localhost:8080/"
    },
    "id": "LQQ-yxljBuK0",
    "outputId": "876d136d-e587-4dac-f514-d5fbf8983b12"
   },
   "outputs": [],
   "source": [
    "Y_train"
   ]
  },
  {
   "cell_type": "markdown",
   "metadata": {
    "id": "mp2KRM_LEbnz"
   },
   "source": [
    "# Visualize a few images"
   ]
  },
  {
   "cell_type": "code",
   "execution_count": null,
   "metadata": {
    "id": "eNFW39ZPBjlv"
   },
   "outputs": [],
   "source": [
    "Chips_Img = np.array(X_train_paths)[Y_train==0]\n",
    "Rice_Img = np.array(X_train_paths)[Y_train==1]"
   ]
  },
  {
   "cell_type": "code",
   "execution_count": null,
   "metadata": {
    "colab": {
     "base_uri": "https://localhost:8080/",
     "height": 673
    },
    "id": "idhsjykqAhwK",
    "outputId": "a5dd1e40-23fc-4d1f-8e71-979997dccdae"
   },
   "outputs": [],
   "source": [
    "print('Rice')\n",
    "plt.figure(figsize=(15,5))\n",
    "for k,file in enumerate(Rice_Img[:5]):\n",
    "    I = plt.imread(file)\n",
    "    plt.subplot(1,5,k+1)\n",
    "    plt.imshow(I)\n",
    "    plt.axis('off')\n",
    "\n",
    "plt.tight_layout()\n",
    "plt.show()\n",
    "\n",
    "print('Chips')\n",
    "plt.figure(figsize=(15,5))\n",
    "for k,file in enumerate(Chips_Img[:5]):\n",
    "    I = plt.imread(file)\n",
    "    plt.subplot(1,5,k+1)\n",
    "    plt.imshow(I)\n",
    "    plt.axis('off')\n",
    "\n",
    "plt.tight_layout()\n",
    "plt.show()"
   ]
  },
  {
   "cell_type": "markdown",
   "metadata": {
    "id": "MQ3Nw8kkF3cd"
   },
   "source": [
    "# Resizing Images"
   ]
  },
  {
   "cell_type": "markdown",
   "metadata": {
    "id": "wTFfymp0FJs8"
   },
   "source": [
    "As it can be seen that images are not of same size, so first step is to resize all the images to one-fixed dimention.\n",
    "\n",
    "To keep the aspect ratio of image as it is, we will append black color to make is image square and then resize to 200x200.\n",
    "\n",
    "You could choose any other size or approach to resize images"
   ]
  },
  {
   "cell_type": "code",
   "execution_count": null,
   "metadata": {
    "id": "GsS5cYAsKPsM"
   },
   "outputs": [],
   "source": [
    "def equalise_img(I):\n",
    "    N,M,C = I.shape\n",
    "    Is = [exposure.equalize_hist(I[:,:,i]) for i in range(C)]\n",
    "    #img_adapteq = exposure.equalize_adapthist(img, clip_limit=0.03)\n",
    "    return np.array(Is).transpose([1,2,0])\n",
    "\n",
    "def make_it_square(I, pad=0):\n",
    "    N,M,C = I.shape\n",
    "    if N>M:\n",
    "        Is = [np.pad(I[:,:,i], [(0,0),(0, N-M)], 'constant', constant_values=pad) for i in range(C)]\n",
    "    else:\n",
    "        Is = [np.pad(I[:,:,i], [(0, M-N),(0,0)], 'constant', constant_values=pad) for i in range(C)]\n",
    "\n",
    "    return np.array(Is).transpose([1,2,0])\n",
    "\n",
    "def resize_img(I,size=[100,100]):\n",
    "    N,M,C = I.shape\n",
    "    Ir = [sp.core.processing.resize(I[:,:,i],size) for i in range(C)]\n",
    "    return np.array(Ir).transpose([1,2,0])"
   ]
  },
  {
   "cell_type": "code",
   "execution_count": null,
   "metadata": {
    "colab": {
     "base_uri": "https://localhost:8080/"
    },
    "id": "RYGLf4ImMqHx",
    "outputId": "1cb0279e-b7a3-4fdf-baea-092a98f378c8"
   },
   "outputs": [],
   "source": [
    "X_train = []\n",
    "for k,file in enumerate(X_train_paths):\n",
    "    sp.utils.ProgBar_JL(k,len(X_train_paths),L=50,color='blue')\n",
    "    I = plt.imread(file)\n",
    "    #I = equalise_img(I.copy())\n",
    "    I = make_it_square(I, pad=0)\n",
    "    I = resize_img(I,size=[200,200])\n",
    "    X_train.append(I)\n",
    "\n",
    "\n",
    "X_test = []\n",
    "for k,file in enumerate(X_test_paths):\n",
    "    sp.utils.ProgBar_JL(k,len(X_test_paths),L=50,color='blue')\n",
    "    I = plt.imread(file)\n",
    "    #I = equalise_img(I.copy())\n",
    "    I = make_it_square(I, pad=0)\n",
    "    I = resize_img(I,size=[200,200])\n",
    "    X_test.append(I)\n",
    "\n",
    "X_train = np.array(X_train)\n",
    "X_test = np.array(X_test)\n",
    "X_train.shape, X_test.shape"
   ]
  },
  {
   "cell_type": "code",
   "execution_count": null,
   "metadata": {
    "colab": {
     "base_uri": "https://localhost:8080/",
     "height": 607
    },
    "id": "KTru3iWrbqap",
    "outputId": "a7e0da69-3ad2-4366-80e5-c21b0f2105d7"
   },
   "outputs": [],
   "source": [
    "plt.figure(figsize=(10,6))\n",
    "for k,I in enumerate(X_train):\n",
    "    plt.subplot(3,5,k+1)\n",
    "    plt.imshow(I)\n",
    "    plt.axis('off')\n",
    "    k+=1\n",
    "    if k>=15:break\n",
    "plt.tight_layout()\n",
    "plt.show()"
   ]
  },
  {
   "cell_type": "markdown",
   "metadata": {
    "id": "WvZOJJmCLhWX"
   },
   "source": [
    "# Feature Extraction"
   ]
  },
  {
   "cell_type": "code",
   "execution_count": null,
   "metadata": {
    "id": "W22wF0DuXsVS"
   },
   "outputs": [],
   "source": [
    "# from skimage.transform import integral_image\n",
    "# from skimage.feature import haar_like_feature\n",
    "# from skimage.feature import haar_like_feature_coord\n",
    "# from skimage.feature import draw_haar_like_feature\n",
    "from skimage.feature import fisher_vector, ORB, learn_gmm\n",
    "from skimage.feature import graycomatrix, graycoprops\n",
    "\n",
    "from sklearn.ensemble import RandomForestClassifier\n",
    "from sklearn.svm import LinearSVC"
   ]
  },
  {
   "cell_type": "code",
   "execution_count": null,
   "metadata": {
    "id": "YyuYJyaULh1T"
   },
   "outputs": [],
   "source": [
    "def get_yellow_component(I,t1=27, t2=33):\n",
    "    Ihsv = (rgb2hsv(I)*255).astype('uint8')\n",
    "    mask = (Ihsv[:,:,0]<t2)*(Ihsv[:,:,0]>t1)\n",
    "    Ypx = mask.sum()\n",
    "    return Ypx\n",
    "\n",
    "def ORBFeatures(I):\n",
    "    Ig = rgb2gray(I)\n",
    "    detector_extractor = ORB(n_keypoints=5, harris_k=0.01)\n",
    "    detector_extractor.detect_and_extract(Ig)\n",
    "    fx = detector_extractor.descriptors.astype('float32')\n",
    "    return fx\n",
    "\n",
    "\n",
    "def GMLC_features(I):\n",
    "    Ig = (rgb2gray(I)*255).astype('uint8')\n",
    "    glcm = graycomatrix(Ig, distances=[5], angles=[0], levels=256,\n",
    "                        symmetric=True, normed=True)\n",
    "    f1 = graycoprops(glcm, 'dissimilarity')[0, 0]\n",
    "    f2 = graycoprops(glcm, 'correlation')[0, 0]\n",
    "    return f1,f2\n",
    "\n",
    "\n",
    "\n",
    "def showConfMat(CM, labels = ['Chips','Rice']):\n",
    "    plt.matshow(CM,cmap='Blues')\n",
    "    for i in range(CM.shape[0]):\n",
    "        for j in range(CM.shape[1]):\n",
    "            plt.text(i,j,CM[i,j].round(2),ha='center',)\n",
    "    plt.xticks([0,1],labels)\n",
    "    plt.yticks([0,1],labels)\n",
    "    plt.show()"
   ]
  },
  {
   "cell_type": "code",
   "execution_count": null,
   "metadata": {
    "colab": {
     "base_uri": "https://localhost:8080/"
    },
    "id": "4A2RV27eR1yw",
    "outputId": "9ccc3a5a-85b3-4143-e745-7a090c428b16"
   },
   "outputs": [],
   "source": [
    "X_train_f = []\n",
    "for k, I in enumerate(X_train):\n",
    "    f1 = get_yellow_component(I)\n",
    "    f2,f3 = GMLC_features(I)\n",
    "    X_train_f.append([f1,f2,f3])\n",
    "\n",
    "X_test_f = []\n",
    "for k, I in enumerate(X_test):\n",
    "    f1 = get_yellow_component(I)\n",
    "    f2,f3 = GMLC_features(I)\n",
    "    X_test_f.append([f1,f2,f3])\n",
    "\n",
    "X_train_f = np.array(X_train_f)\n",
    "X_test_f = np.array(X_test_f)\n",
    "X_train_f.shape, X_test_f.shape"
   ]
  },
  {
   "cell_type": "markdown",
   "metadata": {
    "id": "1GRXiU9lYgdj"
   },
   "source": [
    "# Normalization"
   ]
  },
  {
   "cell_type": "code",
   "execution_count": null,
   "metadata": {
    "id": "VVwERsUuV9jb"
   },
   "outputs": [],
   "source": [
    "MEAN = X_train_f.mean(0)\n",
    "SD = X_train_f.std(0)\n",
    "\n",
    "X_train_fn = (X_train_f - MEAN)/SD\n",
    "X_test_fn = (X_test_f - MEAN)/SD"
   ]
  },
  {
   "cell_type": "markdown",
   "metadata": {
    "id": "ncj2OGlrYp8q"
   },
   "source": [
    "# Linear Model"
   ]
  },
  {
   "cell_type": "code",
   "execution_count": null,
   "metadata": {
    "colab": {
     "base_uri": "https://localhost:8080/",
     "height": 75
    },
    "id": "gtVQS_LWR11t",
    "outputId": "4f7fa20b-fdab-4a79-c068-e6439f9c40d6"
   },
   "outputs": [],
   "source": [
    "model = LinearSVC(C=1)\n",
    "#model = RandomForestClassifier(n_estimators=5,max_depth=3)\n",
    "model.fit(X_train_fn, Y_train)"
   ]
  },
  {
   "cell_type": "code",
   "execution_count": null,
   "metadata": {
    "id": "kUZ56RaTSO1W"
   },
   "outputs": [],
   "source": [
    "ytp = model.predict(X_train_fn)\n",
    "ysp = model.predict(X_test_fn)"
   ]
  },
  {
   "cell_type": "code",
   "execution_count": null,
   "metadata": {
    "colab": {
     "base_uri": "https://localhost:8080/"
    },
    "id": "rPSSr2nOSO4G",
    "outputId": "a7715bb3-3f13-4b81-9600-6560a49d709e"
   },
   "outputs": [],
   "source": [
    "train_accuracy = np.mean(ytp==Y_train)\n",
    "test_accuracy  = np.mean(ysp==Y_test)\n",
    "\n",
    "print('Training Accuracy\\t',train_accuracy)\n",
    "print('Testing  Accuracy\\t',test_accuracy)"
   ]
  },
  {
   "cell_type": "code",
   "execution_count": null,
   "metadata": {
    "id": "zltLt7K8SO62"
   },
   "outputs": [],
   "source": [
    "Ac = np.mean(ysp[Y_test.astype(int)==0]==0)\n",
    "Ar = np.mean(ysp[Y_test.astype(int)==1]==1)\n",
    "\n",
    "Mc = np.mean(ysp[Y_test.astype(int)==0]==1)\n",
    "Mr = np.mean(ysp[Y_test.astype(int)==1]==0)"
   ]
  },
  {
   "cell_type": "code",
   "execution_count": null,
   "metadata": {
    "id": "m5vLPkWHAh0A"
   },
   "outputs": [],
   "source": [
    "CM = np.array([[Ac, Mc],[Mr, Ar]])"
   ]
  },
  {
   "cell_type": "code",
   "execution_count": null,
   "metadata": {
    "colab": {
     "base_uri": "https://localhost:8080/",
     "height": 437
    },
    "id": "pxosD6ghahZT",
    "outputId": "1fb65548-5410-4895-b3b1-2d327177f434"
   },
   "outputs": [],
   "source": [
    "showConfMat(CM)"
   ]
  },
  {
   "cell_type": "code",
   "execution_count": null,
   "metadata": {
    "id": "W3f-B4V1Z1UF"
   },
   "outputs": [],
   "source": []
  },
  {
   "cell_type": "code",
   "execution_count": null,
   "metadata": {
    "id": "wAamLIGpZ7EK"
   },
   "outputs": [],
   "source": []
  }
 ],
 "metadata": {
  "colab": {
   "provenance": []
  },
  "kernelspec": {
   "display_name": "Python 3 (ipykernel)",
   "language": "python",
   "name": "python3"
  },
  "language_info": {
   "codemirror_mode": {
    "name": "ipython",
    "version": 3
   },
   "file_extension": ".py",
   "mimetype": "text/x-python",
   "name": "python",
   "nbconvert_exporter": "python",
   "pygments_lexer": "ipython3",
   "version": "3.10.8"
  },
  "toc": {
   "base_numbering": 1,
   "nav_menu": {},
   "number_sections": true,
   "sideBar": true,
   "skip_h1_title": false,
   "title_cell": "Table of Contents",
   "title_sidebar": "Contents",
   "toc_cell": false,
   "toc_position": {},
   "toc_section_display": true,
   "toc_window_display": false
  }
 },
 "nbformat": 4,
 "nbformat_minor": 1
}
